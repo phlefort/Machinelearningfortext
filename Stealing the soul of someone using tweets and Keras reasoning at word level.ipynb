{
 "cells": [
  {
   "cell_type": "code",
   "execution_count": null,
   "metadata": {},
   "outputs": [],
   "source": [
    "from __future__ import print_function\n",
    "from keras.models import Sequential\n",
    "from keras.layers import Dense, Activation, Dropout\n",
    "from keras.layers import LSTM\n",
    "from keras.optimizers import RMSprop\n",
    "from keras.utils.data_utils import get_file\n",
    "import numpy as np\n",
    "import random\n",
    "import sys\n",
    "import codecs"
   ]
  },
  {
   "cell_type": "markdown",
   "metadata": {},
   "source": [
    "Input file"
   ]
  },
  {
   "cell_type": "code",
   "execution_count": null,
   "metadata": {
    "collapsed": true
   },
   "outputs": [],
   "source": [
    "input_file='data_tweets'\n",
    "training_file = input_file+'.txt'\n",
    "text = codecs.open(training_file, 'r',\"utf-8\").read()"
   ]
  },
  {
   "cell_type": "markdown",
   "metadata": {},
   "source": [
    "Network parameters"
   ]
  },
  {
   "cell_type": "code",
   "execution_count": null,
   "metadata": {},
   "outputs": [],
   "source": [
    "maxlen = 40\n",
    "step = 1\n",
    "nb_dvd=10\n",
    "learn_rate=0.001\n",
    "batch_size=len(text)//nb_dvd\n",
    "nb_iter=100\n",
    "\n",
    "nb_units=128\n",
    "epochs=batch_size//maxlen\n",
    "epochs=10"
   ]
  },
  {
   "cell_type": "markdown",
   "metadata": {},
   "source": [
    "Vocabulary creation (word level)"
   ]
  },
  {
   "cell_type": "code",
   "execution_count": null,
   "metadata": {},
   "outputs": [],
   "source": [
    "word=text.split(\" \")\n",
    "char_indices = dict((c, i) for i, c in enumerate(word))\n",
    "indices_char = dict((i, c) for i, c in enumerate(word))"
   ]
  },
  {
   "cell_type": "markdown",
   "metadata": {},
   "source": [
    "Data processing to feed the network"
   ]
  },
  {
   "cell_type": "code",
   "execution_count": null,
   "metadata": {
    "collapsed": true
   },
   "outputs": [],
   "source": [
    "def generate_arrays_from_file(text,iteration):\n",
    "    #while True:\n",
    "        #f = open(path)\n",
    "        #text = codecs.open(path, 'r',\"utf-8\")\n",
    "        #for i in range(batch_size):\n",
    "            # cut the text in semi-redundant sequences of maxlen characters\n",
    "    index= iteration\n",
    "    textl=word[index:index+batch_size]       \n",
    "    sentences = []\n",
    "    next_chars = []\n",
    "    for j in range(1,batch_size - maxlen-1, step):\n",
    "        sentences.append(textl[j: j + maxlen])\n",
    "        next_chars.append(textl[j + maxlen])\n",
    "    #print('nb sequences:', len(sentences))\n",
    "    print('Vectorization...')\n",
    "    X = np.zeros((len(sentences), maxlen, len(word)), dtype=np.bool)\n",
    "    y = np.zeros((len(sentences), len(word)), dtype=np.bool)\n",
    "    for k, sentence in enumerate(sentences):\n",
    "        for t, words in enumerate(sentence):\n",
    "            X[k, t, char_indices[str(words)]] = 1\n",
    "            y[k, char_indices[next_chars[k]]] = 1\n",
    "    return X, y\n",
    " "
   ]
  },
  {
   "cell_type": "code",
   "execution_count": null,
   "metadata": {
    "collapsed": true
   },
   "outputs": [],
   "source": [
    "def sample(preds, temperature=1.0):\n",
    "    # helper function to sample an index from a probability array\n",
    "    preds = np.asarray(preds).astype('float64')\n",
    "    preds = np.log(preds) / temperature\n",
    "    exp_preds = np.exp(preds)\n",
    "    preds = exp_preds / np.sum(exp_preds)\n",
    "    probas = np.random.multinomial(1, preds, 1)\n",
    "    return np.argmax(probas)"
   ]
  },
  {
   "cell_type": "markdown",
   "metadata": {},
   "source": [
    "Building the network"
   ]
  },
  {
   "cell_type": "code",
   "execution_count": null,
   "metadata": {},
   "outputs": [],
   "source": [
    "# build the model: 2 stacked LSTM\n",
    "print('Build model...')\n",
    "model = Sequential()\n",
    "model.add(LSTM(nb_units, input_shape=(maxlen, len(word))))\n",
    "model.add(Dense(len(word)))\n",
    "model.add(Activation('softmax'))\n",
    "\n",
    "optimizer = RMSprop(lr=learn_rate)\n",
    "model.compile(loss='categorical_crossentropy', optimizer=optimizer)"
   ]
  },
  {
   "cell_type": "markdown",
   "metadata": {},
   "source": [
    "Training"
   ]
  },
  {
   "cell_type": "code",
   "execution_count": null,
   "metadata": {},
   "outputs": [],
   "source": [
    "%%time\n",
    "\n",
    "# train the model, output generated text after each iteration\n",
    "for iteration in range(1, nb_iter):\n",
    "    print()\n",
    "    print('-' * 50)\n",
    "    print('Iteration', iteration)\n",
    "    X,y=generate_arrays_from_file(text,iteration)\n",
    "    model.fit(X,y,batch_size=batch_size, epochs=epochs)\n",
    "\n"
   ]
  },
  {
   "cell_type": "markdown",
   "metadata": {},
   "source": [
    "Saving the model"
   ]
  },
  {
   "cell_type": "code",
   "execution_count": null,
   "metadata": {
    "collapsed": true
   },
   "outputs": [],
   "source": [
    "# serialize model to JSON\n",
    "model_json = model.to_json()\n",
    "with open(\"model.json\", \"w\") as json_file:\n",
    "    json_file.write(model_json)\n",
    "# serialize weights to HDF5\n",
    "model.save_weights(\"model.h5\")\n",
    "print(\"Saved model to disk\")"
   ]
  }
 ],
 "metadata": {
  "anaconda-cloud": {},
  "kernelspec": {
   "display_name": "Python 3",
   "language": "python",
   "name": "python3"
  },
  "language_info": {
   "codemirror_mode": {
    "name": "ipython",
    "version": 3
   },
   "file_extension": ".py",
   "mimetype": "text/x-python",
   "name": "python",
   "nbconvert_exporter": "python",
   "pygments_lexer": "ipython3",
   "version": "3.5.3"
  }
 },
 "nbformat": 4,
 "nbformat_minor": 1
}
